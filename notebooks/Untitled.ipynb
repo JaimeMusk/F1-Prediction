{
 "cells": [
  {
   "cell_type": "code",
   "execution_count": null,
   "id": "153c10fe-157a-4634-b8b2-e03f6be292a0",
   "metadata": {},
   "outputs": [],
   "source": [
    "# Cargar el modelo y los datos de los pilotos desde el archivo .pkl\n",
    "with open(\"models/modelo_entrenado.pkl\", \"rb\") as file:\n",
    "    modelo, pilotos_data = pickle.load(file)  # Cargamos tanto el modelo como el DataFrame con los datos de los pilotos"
   ]
  }
 ],
 "metadata": {
  "kernelspec": {
   "display_name": "Python 3 (ipykernel)",
   "language": "python",
   "name": "python3"
  },
  "language_info": {
   "codemirror_mode": {
    "name": "ipython",
    "version": 3
   },
   "file_extension": ".py",
   "mimetype": "text/x-python",
   "name": "python",
   "nbconvert_exporter": "python",
   "pygments_lexer": "ipython3",
   "version": "3.10.12"
  }
 },
 "nbformat": 4,
 "nbformat_minor": 5
}
